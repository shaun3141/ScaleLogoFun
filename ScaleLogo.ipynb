#%% md

Import Everything

#%%

import numpy
from skimage import io
import matplotlib.pyplot as plt
from matplotlib.colors import ListedColormap

#%% md
Load Initial Image

#%% 

scaleLogo = io.imread('scaleLogo = io.imread('https://findvectorlogo.com/wp-content/uploads/2019/07/scale-ai-inc-vector-logo.png')
