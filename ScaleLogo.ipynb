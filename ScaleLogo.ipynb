#%% md

Import Everything

#%%

import numpy
from skimage import io
import matplotlib.pyplot as plt
from matplotlib.colors import ListedColormap

#%% md
Load Initial Image

#%% 

scaleLogo = io.imread('scaleLogo = io.imread('https://findvectorlogo.com/wp-content/uploads/2019/07/scale-ai-inc-vector-logo.png')

#%% md

For fun, seperate into different color channels

#%%

# Make 3d color image by repeating 2d grayscale across 3 dimensions
scaleColor = numpy.repeat(scaleLogo[:, :, numpy.newaxis].copy(), 3, axis=2)

# Make text blue
scaleColor[scaleColor[:,:,2] != 255,2] = 255

# Render image
plt.imshow(scaleColor)
plt.show()

#%% md

### Goal: Take a bw image of the Scale logo and color it
Step 1: extract our letter gorupings

#%%

# Get Sum of Grayscale Pixels Vertically. If not all white, it's a letter
isLetter = scaleLogo.sum(axis=0) != scaleLogo.shape[0] * 255

# Find Start and End Points Vertically
startPoints = numpy.logical_and(numpy.logical_not(isLetter), numpy.roll(isLetter,-1))
endPoints = numpy.logical_and(numpy.logical_not(isLetter), numpy.roll(isLetter,1))
startStop = numpy.array([
    numpy.argwhere(startPoints)[:,0], 
    numpy.argwhere(endPoints)[:,0], 
    numpy.arange(1,sum(startPoints)+1)
])
print(startStop)

#%% md

The use of *numpy.roll* I found particularly satisfying. 
Once I knew whether each vertical line corresponded to a letter, I had to
find the points where the letters started and stopped. Shifting the known coordinates to the left or right
1 pixel and finding where those points are still true allows me to do that.

#%% md

Step 2: Convert Image to 1s and 0s

#%%

# Convert image to just 1s and 0s
scaleLogo[scaleLogo != 255] = 1
scaleLogo[scaleLogo == 255] = 0

#%% md

Step 3: Create a Color Map of the Scale Colors

#%%

scaleColors = ListedColormap([
    [0/255,0/255,0/255,1],
    [253/255,157/255,81/255,1],
    [237/255,113/255,147/255,1],
    [221/255,70/255,211/255,1],
    [185/255,65/255,233/255,1],
    [148/255,60/255,255/255,1]
])


#%% md

Step 4: For each letter found in the image, make those pixels have the 
corresponding value in the StartStop variable

#%%

for idx in range(startStop.shape[1]):
    scaleLogo[:, startStop[0,idx]:startStop[1,idx]] = \
        scaleLogo[:, startStop[0,idx]:startStop[1,idx]] * startStop[2,idx]

#%% md

Step 5: Last but not least, render it!

#%%

plt.imshow(scaleLogo, cmap=scaleColors)
plt.show()
