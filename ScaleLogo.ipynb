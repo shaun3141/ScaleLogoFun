#%% md

Import Everything

#%%

import numpy
from skimage import io
import matplotlib.pyplot as plt
from matplotlib.colors import ListedColormap

#%% md
Load Initial Image

#%% 
